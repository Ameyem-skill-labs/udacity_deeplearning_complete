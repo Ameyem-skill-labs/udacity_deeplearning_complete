{
 "cells": [
  {
   "cell_type": "markdown",
   "metadata": {
    "colab_type": "text",
    "id": "5hIbr52I7Z7U"
   },
   "source": [
    "Deep Learning\n",
    "=============\n",
    "\n",
    "Assignment 1\n",
    "------------\n",
    "\n",
    "The objective of this assignment is to learn about simple data curation practices, and familiarize you with some of the data we'll be reusing later.\n",
    "\n",
    "This notebook uses the [notMNIST](http://yaroslavvb.blogspot.com/2011/09/notmnist-dataset.html) dataset to be used with python experiments. This dataset is designed to look like the classic [MNIST](http://yann.lecun.com/exdb/mnist/) dataset, while looking a little more like real data: it's a harder task, and the data is a lot less 'clean' than MNIST."
   ]
  },
  {
   "cell_type": "code",
   "execution_count": 1,
   "metadata": {
    "cellView": "both",
    "colab": {
     "autoexec": {
      "startup": false,
      "wait_interval": 0
     }
    },
    "colab_type": "code",
    "collapsed": false,
    "id": "apJbCsBHl-2A"
   },
   "outputs": [],
   "source": [
    "# These are all the modules we'll be using later. Make sure you can import them\n",
    "# before proceeding further.\n",
    "from __future__ import print_function\n",
    "import matplotlib.pyplot as plt\n",
    "import numpy as np\n",
    "import os\n",
    "import sys\n",
    "import tarfile\n",
    "from IPython.display import display, Image\n",
    "from scipy import ndimage\n",
    "from sklearn.linear_model import LogisticRegression\n",
    "from six.moves.urllib.request import urlretrieve\n",
    "from six.moves import cPickle as pickle\n",
    "\n",
    "# Config the matplotlib backend as plotting inline in IPython\n",
    "%matplotlib inline"
   ]
  },
  {
   "cell_type": "markdown",
   "metadata": {
    "colab_type": "text",
    "id": "jNWGtZaXn-5j"
   },
   "source": [
    "First, we'll download the dataset to our local machine. The data consists of characters rendered in a variety of fonts on a 28x28 image. The labels are limited to 'A' through 'J' (10 classes). The training set has about 500k and the testset 19000 labelled examples. Given these sizes, it should be possible to train models quickly on any machine."
   ]
  },
  {
   "cell_type": "code",
   "execution_count": 3,
   "metadata": {
    "cellView": "both",
    "colab": {
     "autoexec": {
      "startup": false,
      "wait_interval": 0
     },
     "output_extras": [
      {
       "item_id": 1
      }
     ]
    },
    "colab_type": "code",
    "collapsed": false,
    "executionInfo": {
     "elapsed": 186058,
     "status": "ok",
     "timestamp": 1444485672507,
     "user": {
      "color": "#1FA15D",
      "displayName": "Vincent Vanhoucke",
      "isAnonymous": false,
      "isMe": true,
      "permissionId": "05076109866853157986",
      "photoUrl": "//lh6.googleusercontent.com/-cCJa7dTDcgQ/AAAAAAAAAAI/AAAAAAAACgw/r2EZ_8oYer4/s50-c-k-no/photo.jpg",
      "sessionId": "2a0a5e044bb03b66",
      "userId": "102167687554210253930"
     },
     "user_tz": 420
    },
    "id": "EYRJ4ICW6-da",
    "outputId": "0d0f85df-155f-4a89-8e7e-ee32df36ec8d"
   },
   "outputs": [
    {
     "name": "stdout",
     "output_type": "stream",
     "text": [
      "Found and verified notMNIST_large.tar.gz\n",
      "Found and verified notMNIST_small.tar.gz\n"
     ]
    }
   ],
   "source": [
    "url = 'http://commondatastorage.googleapis.com/books1000/'\n",
    "last_percent_reported = None\n",
    "\n",
    "def download_progress_hook(count, blockSize, totalSize):\n",
    "  \"\"\"A hook to report the progress of a download. This is mostly intended for users with\n",
    "  slow internet connections. Reports every 1% change in download progress.\n",
    "  \"\"\"\n",
    "  global last_percent_reported\n",
    "  percent = int(count * blockSize * 100 / totalSize)\n",
    "\n",
    "  if last_percent_reported != percent:\n",
    "    if percent % 5 == 0:\n",
    "      sys.stdout.write(\"%s%%\" % percent)\n",
    "      sys.stdout.flush()\n",
    "    else:\n",
    "      sys.stdout.write(\".\")\n",
    "      sys.stdout.flush()\n",
    "      \n",
    "    last_percent_reported = percent\n",
    "        \n",
    "def maybe_download(filename, expected_bytes, force=False):\n",
    "  \"\"\"Download a file if not present, and make sure it's the right size.\"\"\"\n",
    "  if force or not os.path.exists(filename):\n",
    "    print('Attempting to download:', filename) \n",
    "    filename, _ = urlretrieve(url + filename, filename, reporthook=download_progress_hook)\n",
    "    print('\\nDownload Complete!')\n",
    "  statinfo = os.stat(filename)\n",
    "  if statinfo.st_size == expected_bytes:\n",
    "    print('Found and verified', filename)\n",
    "  else:\n",
    "    raise Exception(\n",
    "      'Failed to verify ' + filename + '. Can you get to it with a browser?')\n",
    "  return filename\n",
    "\n",
    "train_filename = maybe_download('notMNIST_large.tar.gz', 247336696)\n",
    "test_filename = maybe_download('notMNIST_small.tar.gz', 8458043)"
   ]
  },
  {
   "cell_type": "markdown",
   "metadata": {
    "colab_type": "text",
    "id": "cC3p0oEyF8QT"
   },
   "source": [
    "Extract the dataset from the compressed .tar.gz file.\n",
    "This should give you a set of directories, labelled A through J."
   ]
  },
  {
   "cell_type": "code",
   "execution_count": 5,
   "metadata": {
    "cellView": "both",
    "colab": {
     "autoexec": {
      "startup": false,
      "wait_interval": 0
     },
     "output_extras": [
      {
       "item_id": 1
      }
     ]
    },
    "colab_type": "code",
    "collapsed": false,
    "executionInfo": {
     "elapsed": 186055,
     "status": "ok",
     "timestamp": 1444485672525,
     "user": {
      "color": "#1FA15D",
      "displayName": "Vincent Vanhoucke",
      "isAnonymous": false,
      "isMe": true,
      "permissionId": "05076109866853157986",
      "photoUrl": "//lh6.googleusercontent.com/-cCJa7dTDcgQ/AAAAAAAAAAI/AAAAAAAACgw/r2EZ_8oYer4/s50-c-k-no/photo.jpg",
      "sessionId": "2a0a5e044bb03b66",
      "userId": "102167687554210253930"
     },
     "user_tz": 420
    },
    "id": "H8CBE-WZ8nmj",
    "outputId": "ef6c790c-2513-4b09-962e-27c79390c762"
   },
   "outputs": [
    {
     "name": "stdout",
     "output_type": "stream",
     "text": [
      "notMNIST_large already present - Skipping extraction of notMNIST_large.tar.gz.\n",
      "['notMNIST_large\\\\A', 'notMNIST_large\\\\B', 'notMNIST_large\\\\C', 'notMNIST_large\\\\D', 'notMNIST_large\\\\E', 'notMNIST_large\\\\F', 'notMNIST_large\\\\G', 'notMNIST_large\\\\H', 'notMNIST_large\\\\I', 'notMNIST_large\\\\J']\n",
      "notMNIST_small already present - Skipping extraction of notMNIST_small.tar.gz.\n",
      "['notMNIST_small\\\\A', 'notMNIST_small\\\\B', 'notMNIST_small\\\\C', 'notMNIST_small\\\\D', 'notMNIST_small\\\\E', 'notMNIST_small\\\\F', 'notMNIST_small\\\\G', 'notMNIST_small\\\\H', 'notMNIST_small\\\\I', 'notMNIST_small\\\\J']\n"
     ]
    }
   ],
   "source": [
    "num_classes = 10\n",
    "np.random.seed(133)\n",
    "\n",
    "def maybe_extract(filename, force=False):\n",
    "  root = os.path.splitext(os.path.splitext(filename)[0])[0]  # remove .tar.gz\n",
    "  if os.path.isdir(root) and not force:\n",
    "    # You may override by setting force=True.\n",
    "    print('%s already present - Skipping extraction of %s.' % (root, filename))\n",
    "  else:\n",
    "    print('Extracting data for %s. This may take a while. Please wait.' % root)\n",
    "    tar = tarfile.open(filename)\n",
    "    sys.stdout.flush()\n",
    "    tar.extractall()\n",
    "    tar.close()\n",
    "  data_folders = [\n",
    "    os.path.join(root, d) for d in sorted(os.listdir(root))\n",
    "    if os.path.isdir(os.path.join(root, d))]\n",
    "  if len(data_folders) != num_classes:\n",
    "    raise Exception(\n",
    "      'Expected %d folders, one per class. Found %d instead.' % (\n",
    "        num_classes, len(data_folders)))\n",
    "  print(data_folders)\n",
    "  return data_folders\n",
    "  \n",
    "train_folders = maybe_extract(train_filename)\n",
    "test_folders = maybe_extract(test_filename)"
   ]
  },
  {
   "cell_type": "markdown",
   "metadata": {
    "colab_type": "text",
    "id": "4riXK3IoHgx6"
   },
   "source": [
    "---\n",
    "Problem 1\n",
    "---------\n",
    "\n",
    "Let's take a peek at some of the data to make sure it looks sensible. Each exemplar should be an image of a character A through J rendered in a different font. Display a sample of the images that we just downloaded. Hint: you can use the package IPython.display.\n",
    "\n",
    "---"
   ]
  },
  {
   "cell_type": "code",
   "execution_count": 8,
   "metadata": {
    "collapsed": false
   },
   "outputs": [
    {
     "data": {
      "image/png": "[encoded data removed]",
      "text/plain": [
       "<IPython.core.display.Image object>"
      ]
     },
     "execution_count": 8,
     "metadata": {},
     "output_type": "execute_result"
    }
   ],
   "source": [
    "from IPython.display import Image\n",
    "Image(filename='notMNIST_small/A/SWFkZWxvbi1EZW1pQm9sZC5vdGY=.png') "
   ]
  },
  {
   "cell_type": "markdown",
   "metadata": {
    "colab_type": "text",
    "id": "PBdkjESPK8tw"
   },
   "source": [
    "Now let's load the data in a more manageable format. Since, depending on your computer setup you might not be able to fit it all in memory, we'll load each class into a separate dataset, store them on disk and curate them independently. Later we'll merge them into a single dataset of manageable size.\n",
    "\n",
    "We'll convert the entire dataset into a 3D array (image index, x, y) of floating point values, normalized to have approximately zero mean and standard deviation ~0.5 to make training easier down the road. \n",
    "\n",
    "A few images might not be readable, we'll just skip them."
   ]
  },
  {
   "cell_type": "code",
   "execution_count": 7,
   "metadata": {
    "cellView": "both",
    "colab": {
     "autoexec": {
      "startup": false,
      "wait_interval": 0
     },
     "output_extras": [
      {
       "item_id": 30
      }
     ]
    },
    "colab_type": "code",
    "collapsed": false,
    "executionInfo": {
     "elapsed": 399874,
     "status": "ok",
     "timestamp": 1444485886378,
     "user": {
      "color": "#1FA15D",
      "displayName": "Vincent Vanhoucke",
      "isAnonymous": false,
      "isMe": true,
      "permissionId": "05076109866853157986",
      "photoUrl": "//lh6.googleusercontent.com/-cCJa7dTDcgQ/AAAAAAAAAAI/AAAAAAAACgw/r2EZ_8oYer4/s50-c-k-no/photo.jpg",
      "sessionId": "2a0a5e044bb03b66",
      "userId": "102167687554210253930"
     },
     "user_tz": 420
    },
    "id": "h7q0XhG3MJdf",
    "outputId": "92c391bb-86ff-431d-9ada-315568a19e59"
   },
   "outputs": [
    {
     "name": "stdout",
     "output_type": "stream",
     "text": [
      "notMNIST_large\\A.pickle already present - Skipping pickling.\n",
      "notMNIST_large\\B.pickle already present - Skipping pickling.\n",
      "notMNIST_large\\C.pickle already present - Skipping pickling.\n",
      "notMNIST_large\\D.pickle already present - Skipping pickling.\n",
      "notMNIST_large\\E.pickle already present - Skipping pickling.\n",
      "notMNIST_large\\F.pickle already present - Skipping pickling.\n",
      "notMNIST_large\\G.pickle already present - Skipping pickling.\n",
      "notMNIST_large\\H.pickle already present - Skipping pickling.\n",
      "notMNIST_large\\I.pickle already present - Skipping pickling.\n",
      "Pickling notMNIST_large\\J.pickle.\n",
      "notMNIST_large\\J\n",
      "Could not read: notMNIST_large\\J\\c3RhbmRhcmQgMDdfNTMudHRm.png : cannot identify image file 'notMNIST_large\\\\J\\\\c3RhbmRhcmQgMDdfNTMudHRm.png' - it's ok, skipping.\n",
      "Full dataset tensor: (52910, 28, 28)\n",
      "Mean: -0.153357\n",
      "Standard deviation: 0.443656\n",
      "Pickling notMNIST_small\\A.pickle.\n",
      "notMNIST_small\\A\n",
      "Could not read: notMNIST_small\\A\\RGVtb2NyYXRpY2FCb2xkT2xkc3R5bGUgQm9sZC50dGY=.png : cannot identify image file 'notMNIST_small\\\\A\\\\RGVtb2NyYXRpY2FCb2xkT2xkc3R5bGUgQm9sZC50dGY=.png' - it's ok, skipping.\n",
      "Full dataset tensor: (1872, 28, 28)\n",
      "Mean: -0.132626\n",
      "Standard deviation: 0.445128\n",
      "Pickling notMNIST_small\\B.pickle.\n",
      "notMNIST_small\\B\n",
      "Full dataset tensor: (1873, 28, 28)\n",
      "Mean: 0.00535609\n",
      "Standard deviation: 0.457115\n",
      "Pickling notMNIST_small\\C.pickle.\n",
      "notMNIST_small\\C\n",
      "Full dataset tensor: (1873, 28, 28)\n",
      "Mean: -0.141521\n",
      "Standard deviation: 0.44269\n",
      "Pickling notMNIST_small\\D.pickle.\n",
      "notMNIST_small\\D\n",
      "Full dataset tensor: (1873, 28, 28)\n",
      "Mean: -0.0492167\n",
      "Standard deviation: 0.459759\n",
      "Pickling notMNIST_small\\E.pickle.\n",
      "notMNIST_small\\E\n",
      "Full dataset tensor: (1873, 28, 28)\n",
      "Mean: -0.0599148\n",
      "Standard deviation: 0.45735\n",
      "Pickling notMNIST_small\\F.pickle.\n",
      "notMNIST_small\\F\n",
      "Could not read: notMNIST_small\\F\\Q3Jvc3NvdmVyIEJvbGRPYmxpcXVlLnR0Zg==.png : cannot identify image file 'notMNIST_small\\\\F\\\\Q3Jvc3NvdmVyIEJvbGRPYmxpcXVlLnR0Zg==.png' - it's ok, skipping.\n",
      "Full dataset tensor: (1872, 28, 28)\n",
      "Mean: -0.118185\n",
      "Standard deviation: 0.452279\n",
      "Pickling notMNIST_small\\G.pickle.\n",
      "notMNIST_small\\G\n",
      "Full dataset tensor: (1872, 28, 28)\n",
      "Mean: -0.0925503\n",
      "Standard deviation: 0.449006\n",
      "Pickling notMNIST_small\\H.pickle.\n",
      "notMNIST_small\\H\n",
      "Full dataset tensor: (1872, 28, 28)\n",
      "Mean: -0.0586893\n",
      "Standard deviation: 0.458759\n",
      "Pickling notMNIST_small\\I.pickle.\n",
      "notMNIST_small\\I\n",
      "Full dataset tensor: (1872, 28, 28)\n",
      "Mean: 0.0526451\n",
      "Standard deviation: 0.471894\n",
      "Pickling notMNIST_small\\J.pickle.\n",
      "notMNIST_small\\J\n",
      "Full dataset tensor: (1872, 28, 28)\n",
      "Mean: -0.151689\n",
      "Standard deviation: 0.448014\n"
     ]
    }
   ],
   "source": [
    "image_size = 28  # Pixel width and height.\n",
    "pixel_depth = 255.0  # Number of levels per pixel.\n",
    "\n",
    "def load_letter(folder, min_num_images):\n",
    "  \"\"\"Load the data for a single letter label.\"\"\"\n",
    "  image_files = os.listdir(folder)\n",
    "  dataset = np.ndarray(shape=(len(image_files), image_size, image_size),\n",
    "                         dtype=np.float32)\n",
    "  print(folder)\n",
    "  num_images = 0\n",
    "  for image in image_files:\n",
    "    image_file = os.path.join(folder, image)\n",
    "    try:\n",
    "      image_data = (ndimage.imread(image_file).astype(float) - \n",
    "                    pixel_depth / 2) / pixel_depth\n",
    "      if image_data.shape != (image_size, image_size):\n",
    "        raise Exception('Unexpected image shape: %s' % str(image_data.shape))\n",
    "      dataset[num_images, :, :] = image_data\n",
    "      num_images = num_images + 1\n",
    "    except IOError as e:\n",
    "      print('Could not read:', image_file, ':', e, '- it\\'s ok, skipping.')\n",
    "    \n",
    "  dataset = dataset[0:num_images, :, :]\n",
    "  if num_images < min_num_images:\n",
    "    raise Exception('Many fewer images than expected: %d < %d' %\n",
    "                    (num_images, min_num_images))\n",
    "    \n",
    "  print('Full dataset tensor:', dataset.shape)\n",
    "  print('Mean:', np.mean(dataset))\n",
    "  print('Standard deviation:', np.std(dataset))\n",
    "  return dataset\n",
    "        \n",
    "def maybe_pickle(data_folders, min_num_images_per_class, force=False):\n",
    "  dataset_names = []\n",
    "  for folder in data_folders:\n",
    "    set_filename = folder + '.pickle'\n",
    "    dataset_names.append(set_filename)\n",
    "    if os.path.exists(set_filename) and not force:\n",
    "      # You may override by setting force=True.\n",
    "      print('%s already present - Skipping pickling.' % set_filename)\n",
    "    else:\n",
    "      print('Pickling %s.' % set_filename)\n",
    "      dataset = load_letter(folder, min_num_images_per_class)\n",
    "      try:\n",
    "        with open(set_filename, 'wb') as f:\n",
    "          pickle.dump(dataset, f, pickle.HIGHEST_PROTOCOL)\n",
    "      except Exception as e:\n",
    "        print('Unable to save data to', set_filename, ':', e)\n",
    "  \n",
    "  return dataset_names\n",
    "\n",
    "train_datasets = maybe_pickle(train_folders, 45000)\n",
    "test_datasets = maybe_pickle(test_folders, 1800)"
   ]
  },
  {
   "cell_type": "markdown",
   "metadata": {
    "colab_type": "text",
    "id": "vUdbskYE2d87"
   },
   "source": [
    "---\n",
    "Problem 2\n",
    "---------\n",
    "\n",
    "Let's verify that the data still looks good. Displaying a sample of the labels and images from the ndarray. Hint: you can use matplotlib.pyplot.\n",
    "\n",
    "---"
   ]
  },
  {
   "cell_type": "code",
   "execution_count": 8,
   "metadata": {
    "collapsed": false
   },
   "outputs": [
    {
     "name": "stdout",
     "output_type": "stream",
     "text": [
      "(52911, 28, 28)\n"
     ]
    },
    {
     "data": {
      "text/plain": [
       "<matplotlib.image.AxesImage at 0x12386a20>"
      ]
     },
     "execution_count": 8,
     "metadata": {},
     "output_type": "execute_result"
    },
    {
     "data": {
      "image/png": "[encoded data removed]",
      "text/plain": [
       "<matplotlib.figure.Figure at 0x13678940>"
      ]
     },
     "metadata": {},
     "output_type": "display_data"
    }
   ],
   "source": [
    "data_b = pickle.load(open( './notMNIST_large/B.pickle', \"rb\" ))\n",
    "\n",
    "print(data_b.shape)\n",
    "plt.imshow(data_b[1023])"
   ]
  },
  {
   "cell_type": "markdown",
   "metadata": {
    "colab_type": "text",
    "id": "cYznx5jUwzoO"
   },
   "source": [
    "---\n",
    "Problem 3\n",
    "---------\n",
    "Another check: we expect the data to be balanced across classes. Verify that.\n",
    "\n",
    "---"
   ]
  },
  {
   "cell_type": "markdown",
   "metadata": {
    "colab_type": "text",
    "id": "LA7M7K22ynCt"
   },
   "source": [
    "Merge and prune the training data as needed. Depending on your computer setup, you might not be able to fit it all in memory, and you can tune `train_size` as needed. The labels will be stored into a separate array of integers 0 through 9.\n",
    "\n",
    "Also create a validation dataset for hyperparameter tuning."
   ]
  },
  {
   "cell_type": "code",
   "execution_count": 9,
   "metadata": {
    "cellView": "both",
    "colab": {
     "autoexec": {
      "startup": false,
      "wait_interval": 0
     },
     "output_extras": [
      {
       "item_id": 1
      }
     ]
    },
    "colab_type": "code",
    "collapsed": false,
    "executionInfo": {
     "elapsed": 411281,
     "status": "ok",
     "timestamp": 1444485897869,
     "user": {
      "color": "#1FA15D",
      "displayName": "Vincent Vanhoucke",
      "isAnonymous": false,
      "isMe": true,
      "permissionId": "05076109866853157986",
      "photoUrl": "//lh6.googleusercontent.com/-cCJa7dTDcgQ/AAAAAAAAAAI/AAAAAAAACgw/r2EZ_8oYer4/s50-c-k-no/photo.jpg",
      "sessionId": "2a0a5e044bb03b66",
      "userId": "102167687554210253930"
     },
     "user_tz": 420
    },
    "id": "s3mWgZLpyuzq",
    "outputId": "8af66da6-902d-4719-bedc-7c9fb7ae7948"
   },
   "outputs": [
    {
     "name": "stdout",
     "output_type": "stream",
     "text": [
      "Training: (150000, 28, 28) (150000,)\n",
      "Validation: (10000, 28, 28) (10000,)\n",
      "Testing: (10000, 28, 28) (10000,)\n"
     ]
    }
   ],
   "source": [
    "def make_arrays(nb_rows, img_size):\n",
    "  if nb_rows:\n",
    "    dataset = np.ndarray((nb_rows, img_size, img_size), dtype=np.float32)\n",
    "    labels = np.ndarray(nb_rows, dtype=np.int32)\n",
    "  else:\n",
    "    dataset, labels = None, None\n",
    "  return dataset, labels\n",
    "\n",
    "def merge_datasets(pickle_files, train_size, valid_size=0):\n",
    "  num_classes = len(pickle_files)\n",
    "  valid_dataset, valid_labels = make_arrays(valid_size, image_size)\n",
    "  train_dataset, train_labels = make_arrays(train_size, image_size)\n",
    "  vsize_per_class = valid_size // num_classes\n",
    "  tsize_per_class = train_size // num_classes\n",
    "    \n",
    "  start_v, start_t = 0, 0\n",
    "  end_v, end_t = vsize_per_class, tsize_per_class\n",
    "  end_l = vsize_per_class+tsize_per_class\n",
    "  for label, pickle_file in enumerate(pickle_files):       \n",
    "    try:\n",
    "      with open(pickle_file, 'rb') as f:\n",
    "        letter_set = pickle.load(f)\n",
    "        # let's shuffle the letters to have random validation and training set\n",
    "        np.random.shuffle(letter_set)\n",
    "        if valid_dataset is not None:\n",
    "          valid_letter = letter_set[:vsize_per_class, :, :]\n",
    "          valid_dataset[start_v:end_v, :, :] = valid_letter\n",
    "          valid_labels[start_v:end_v] = label\n",
    "          start_v += vsize_per_class\n",
    "          end_v += vsize_per_class\n",
    "                    \n",
    "        train_letter = letter_set[vsize_per_class:end_l, :, :]\n",
    "        train_dataset[start_t:end_t, :, :] = train_letter\n",
    "        train_labels[start_t:end_t] = label\n",
    "        start_t += tsize_per_class\n",
    "        end_t += tsize_per_class\n",
    "    except Exception as e:\n",
    "      print('Unable to process data from', pickle_file, ':', e)\n",
    "      raise\n",
    "    \n",
    "  return valid_dataset, valid_labels, train_dataset, train_labels\n",
    "            \n",
    "            \n",
    "train_size = 150000\n",
    "valid_size = 10000\n",
    "test_size = 10000\n",
    "\n",
    "valid_dataset, valid_labels, train_dataset, train_labels = merge_datasets(\n",
    "  train_datasets, train_size, valid_size)\n",
    "_, _, test_dataset, test_labels = merge_datasets(test_datasets, test_size)\n",
    "\n",
    "print('Training:', train_dataset.shape, train_labels.shape)\n",
    "print('Validation:', valid_dataset.shape, valid_labels.shape)\n",
    "print('Testing:', test_dataset.shape, test_labels.shape)"
   ]
  },
  {
   "cell_type": "markdown",
   "metadata": {
    "colab_type": "text",
    "id": "GPTCnjIcyuKN"
   },
   "source": [
    "Next, we'll randomize the data. It's important to have the labels well shuffled for the training and test distributions to match."
   ]
  },
  {
   "cell_type": "code",
   "execution_count": 10,
   "metadata": {
    "cellView": "both",
    "colab": {
     "autoexec": {
      "startup": false,
      "wait_interval": 0
     }
    },
    "colab_type": "code",
    "collapsed": true,
    "id": "6WZ2l2tN2zOL"
   },
   "outputs": [],
   "source": [
    "def randomize(dataset, labels):\n",
    "  permutation = np.random.permutation(labels.shape[0])\n",
    "  shuffled_dataset = dataset[permutation,:,:]\n",
    "  shuffled_labels = labels[permutation]\n",
    "  return shuffled_dataset, shuffled_labels\n",
    "train_dataset, train_labels = randomize(train_dataset, train_labels)\n",
    "test_dataset, test_labels = randomize(test_dataset, test_labels)\n",
    "valid_dataset, valid_labels = randomize(valid_dataset, valid_labels)"
   ]
  },
  {
   "cell_type": "markdown",
   "metadata": {
    "colab_type": "text",
    "id": "puDUTe6t6USl"
   },
   "source": [
    "---\n",
    "Problem 4\n",
    "---------\n",
    "Convince yourself that the data is still good after shuffling!\n",
    "\n",
    "---"
   ]
  },
  {
   "cell_type": "code",
   "execution_count": 11,
   "metadata": {
    "collapsed": false
   },
   "outputs": [
    {
     "name": "stdout",
     "output_type": "stream",
     "text": [
      "3\n"
     ]
    },
    {
     "data": {
      "image/png": "[encoded data removed]",
      "text/plain": [
       "<matplotlib.figure.Figure at 0x1255ddd8>"
      ]
     },
     "metadata": {},
     "output_type": "display_data"
    }
   ],
   "source": [
    "\n",
    "idx = np.random.randint(0,10000)\n",
    "plt.imshow(train_dataset[idx])\n",
    "print(train_labels[idx])\n"
   ]
  },
  {
   "cell_type": "markdown",
   "metadata": {
    "colab_type": "text",
    "id": "tIQJaJuwg5Hw"
   },
   "source": [
    "Finally, let's save the data for later reuse:"
   ]
  },
  {
   "cell_type": "code",
   "execution_count": 12,
   "metadata": {
    "cellView": "both",
    "colab": {
     "autoexec": {
      "startup": false,
      "wait_interval": 0
     }
    },
    "colab_type": "code",
    "collapsed": true,
    "id": "QiR_rETzem6C"
   },
   "outputs": [],
   "source": [
    "pickle_file = 'notMNIST.pickle'\n",
    "\n",
    "try:\n",
    "  f = open(pickle_file, 'wb')\n",
    "  save = {\n",
    "    'train_dataset': train_dataset,\n",
    "    'train_labels': train_labels,\n",
    "    'valid_dataset': valid_dataset,\n",
    "    'valid_labels': valid_labels,\n",
    "    'test_dataset': test_dataset,\n",
    "    'test_labels': test_labels,\n",
    "    }\n",
    "  pickle.dump(save, f, pickle.HIGHEST_PROTOCOL)\n",
    "  f.close()\n",
    "except Exception as e:\n",
    "  print('Unable to save data to', pickle_file, ':', e)\n",
    "  raise"
   ]
  },
  {
   "cell_type": "code",
   "execution_count": 13,
   "metadata": {
    "cellView": "both",
    "colab": {
     "autoexec": {
      "startup": false,
      "wait_interval": 0
     },
     "output_extras": [
      {
       "item_id": 1
      }
     ]
    },
    "colab_type": "code",
    "collapsed": false,
    "executionInfo": {
     "elapsed": 413065,
     "status": "ok",
     "timestamp": 1444485899688,
     "user": {
      "color": "#1FA15D",
      "displayName": "Vincent Vanhoucke",
      "isAnonymous": false,
      "isMe": true,
      "permissionId": "05076109866853157986",
      "photoUrl": "//lh6.googleusercontent.com/-cCJa7dTDcgQ/AAAAAAAAAAI/AAAAAAAACgw/r2EZ_8oYer4/s50-c-k-no/photo.jpg",
      "sessionId": "2a0a5e044bb03b66",
      "userId": "102167687554210253930"
     },
     "user_tz": 420
    },
    "id": "hQbLjrW_iT39",
    "outputId": "b440efc6-5ee1-4cbc-d02d-93db44ebd956"
   },
   "outputs": [
    {
     "name": "stdout",
     "output_type": "stream",
     "text": [
      "Compressed pickle size: 533800503\n"
     ]
    }
   ],
   "source": [
    "statinfo = os.stat(pickle_file)\n",
    "print('Compressed pickle size:', statinfo.st_size)"
   ]
  },
  {
   "cell_type": "markdown",
   "metadata": {
    "colab_type": "text",
    "id": "gE_cRAQB33lk"
   },
   "source": [
    "---\n",
    "Problem 5\n",
    "---------\n",
    "\n",
    "By construction, this dataset might contain a lot of overlapping samples, including training data that's also contained in the validation and test set! Overlap between training and test can skew the results if you expect to use your model in an environment where there is never an overlap, but are actually ok if you expect to see training samples recur when you use it.\n",
    "Measure how much overlap there is between training, validation and test samples.\n",
    "\n",
    "Optional questions:\n",
    "- What about near duplicates between datasets? (images that are almost identical)\n",
    "- Create a sanitized validation and test set, and compare your accuracy on those in subsequent assignments.\n",
    "---"
   ]
  },
  {
   "cell_type": "code",
   "execution_count": 2,
   "metadata": {
    "collapsed": false
   },
   "outputs": [],
   "source": [
    "\n",
    "def dist_img(x1,x2):\n",
    "    return np.sqrt(np.sum(np.sum(np.subtract(x2,x1)**2,axis=2),axis=1))\n",
    "\n",
    "#check if duplicates exist between dataset_1 and dataset_2 and sanitize dataset_2 according to \n",
    "def delete_dups_eff(dataset_1,dataset_1_y,threshold):\n",
    "    \n",
    "    test_hash = False\n",
    "\n",
    "    partitions = (4,4)\n",
    "    part_size = (dataset_1.shape[1]/partitions[0],dataset_1.shape[2]/partitions[1])\n",
    "    \n",
    "    #check withing train set\n",
    "    hashcodes = {}\n",
    "    bucket_size = 5 #group the each element of hashcode to a bucket\n",
    "    \n",
    "    for x_i in range(dataset_1.shape[0]):\n",
    "        hash_key = ''\n",
    "        \n",
    "        for i in range(partitions[0]):\n",
    "            for j in range(partitions[1]):\n",
    "                if i==0 or i==partitions[0]-1 or j==0 or j==partitions[1]-1:\n",
    "                    continue\n",
    "                #print(\"Partition %i,%i\"%(i,j))              \n",
    "                #print(\"Sum for region: x(%i,%i) y(%i,%i)\"%(i*part_size[0],(i+1)*part_size[0],j*part_size[1],(j+1)*part_size[1]))                \n",
    "               \n",
    "                sum_ij = np.sum(\n",
    "                    np.sum(dataset_1[x_i][i*part_size[0]:(i+1)*part_size[0],j*part_size[1]:(j+1)*part_size[1]],axis=1),\n",
    "                    axis=0)\n",
    "                #print(\"\\tSum: %f\"%sum_ij)\n",
    "                hash_key += str(int(sum_ij)-int(sum_ij)%bucket_size)+','\n",
    "                \n",
    "        if hash_key in hashcodes:\n",
    "            hashcodes[hash_key].append(x_i)\n",
    "        else:\n",
    "            hashcodes[hash_key]=[x_i]\n",
    "        \n",
    "        if test_hash and x_i>50000:\n",
    "            break\n",
    "    \n",
    "    san_train_y = np.empty(dataset_1_y.shape)\n",
    "    san_train_set = np.empty(dataset_1.shape)\n",
    "    t_i = 0\n",
    "    test_sim = False\n",
    "    for k,values in hashcodes.items():\n",
    "        # if only one element for the key, no check. just add it\n",
    "        if len(values)==1:            \n",
    "            san_train_set[t_i]=dataset_1[values[0]]\n",
    "            san_train_y[t_i]=dataset_1_y[values[0]]\n",
    "            t_i += 1\n",
    "            #print(\"Adding %i element (single)\"%t_i)\n",
    "            \n",
    "        #if multiple elements exist, we need to perform distance calculation within the bucket\n",
    "        else:      \n",
    "            key_sim_indices = set() #will hold the set of indices of duplicate images\n",
    "            len_values = len(values) #length of all indices in the bucket\n",
    "            copy_values = [v for v in values] #copy for visualization purposes\n",
    "            copy_dist_vec = None #copy for visualization purposes\n",
    "            \n",
    "            #continue this loop until only one element remain in the list\n",
    "            while len(values)>1:\n",
    "                # multiple elements for hashkey, check distance for each element\n",
    "                # get the images belonging to the key except 0th element\n",
    "                imgs_v = dataset_1[np.r_[values[1:]]]\n",
    "                #calculate distance between element 0 and all others\n",
    "                dist_vec = dist_img(dataset_1[values[0]],imgs_v)\n",
    "                \n",
    "                #for visualization ...\n",
    "                if copy_dist_vec is None:\n",
    "                    copy_dist_vec = [d for d in dist_vec]\n",
    "                \n",
    "                #get indices that are duplicates of 0th element\n",
    "                sim_indices = np.where(dist_vec<threshold)[0]\n",
    "                \n",
    "                # add those to the key_sim_indices\n",
    "                for sim_i in sim_indices:\n",
    "                    key_sim_indices.add(values[sim_i+1])\n",
    "                \n",
    "                #delete the 0th element\n",
    "                del values[0]\n",
    "            \n",
    "            # add all elements not in the key_sim_indices\n",
    "            for v in copy_values:\n",
    "                if v not in key_sim_indices:\n",
    "                    san_train_set[t_i]=dataset_1[v]\n",
    "                    san_train_y[t_i]=dataset_1_y[v]\n",
    "                    t_i += 1\n",
    "                    #print(\"Adding %i element (multiple)\"%t_i)\n",
    "            \n",
    "            # this is for testing if the algo is acually finding similar iterms and not different ones\n",
    "            if test_sim and len_values>5 and len_values<10:\n",
    "\n",
    "                if np.random.random()<0.8:\n",
    "                    continue\n",
    "                fig,ax = plt.subplots(1,len_values)\n",
    "                ax[0].imshow(dataset_1[copy_values[0]])\n",
    "                for temp_i in range(len_values-1):\n",
    "                    ax[temp_i+1].imshow(dataset_1[copy_values[temp_i+1]])\n",
    "                print(\"Image indices: \",copy_values)\n",
    "                print(\"Distances: \",copy_dist_vec)\n",
    "                print(\"Similar indices: \",key_sim_indices)\n",
    "                break\n",
    "                \n",
    "    san_train_set = np.delete(san_train_set,np.r_[t_i: dataset_1.shape[0]],axis=0)\n",
    "    san_train_y = np.delete(san_train_y,np.r_[t_i: dataset_1_y.shape[0]],axis=0)\n",
    "    \n",
    "    print(san_train_set.shape)\n",
    "    return (san_train_set,san_train_y)\n",
    "       "
   ]
  },
  {
   "cell_type": "markdown",
   "metadata": {},
   "source": [
    "\n",
    "This method is to calculate the duplicates between different datasets. It uses a hashing functions to speed up the calculations\n"
   ]
  },
  {
   "cell_type": "code",
   "execution_count": 3,
   "metadata": {
    "collapsed": true
   },
   "outputs": [],
   "source": [
    "def dist_img_3d(x1,x2):\n",
    "    return np.sqrt(np.sum(np.sum(np.subtract(x2,x1)**2,axis=2),axis=1))\n",
    "\n",
    "def dist_img_2d(x1,x2):\n",
    "    return np.sqrt(np.sum(np.sum(np.subtract(x2,x1)**2)))\n",
    "\n",
    "#check if duplicates exist between dataset_1 and dataset_2 and sanitize dataset_2 according to \n",
    "def delete_inter_dups_eff(dataset_1,dataset_1_y, dataset_2, dataset_2_y, threshold):\n",
    "    \n",
    "    test_hash = False\n",
    "\n",
    "    partitions = (4,4)\n",
    "    part_size = (dataset_1.shape[1]/partitions[0],dataset_1.shape[2]/partitions[1])\n",
    "    \n",
    "    #check withing train set\n",
    "    hashcodes_d1,hashcodes_d2 = {},{}\n",
    "    bucket_size = 5 #group the each element of hashcode to a bucket\n",
    "    \n",
    "    for x_i in range(dataset_1.shape[0]):\n",
    "        hash_key = ''\n",
    "        \n",
    "        for i in range(partitions[0]):\n",
    "            for j in range(partitions[1]):\n",
    "                if i==0 or i==partitions[0]-1 or j==0 or j==partitions[1]-1:\n",
    "                    continue\n",
    "                #print(\"Partition %i,%i\"%(i,j))              \n",
    "                #print(\"Sum for region: x(%i,%i) y(%i,%i)\"%(i*part_size[0],(i+1)*part_size[0],j*part_size[1],(j+1)*part_size[1]))                \n",
    "               \n",
    "                sum_ij = np.sum(\n",
    "                    np.sum(dataset_1[x_i][i*part_size[0]:(i+1)*part_size[0],j*part_size[1]:(j+1)*part_size[1]],axis=1),\n",
    "                    axis=0)\n",
    "                #print(\"\\tSum: %f\"%sum_ij)\n",
    "                hash_key += str(int(sum_ij)-int(sum_ij)%bucket_size)+','\n",
    "                \n",
    "        if hash_key in hashcodes_d1:\n",
    "            hashcodes_d1[hash_key].append(x_i)\n",
    "        else:\n",
    "            hashcodes_d1[hash_key]=[x_i]\n",
    "        \n",
    "        if test_hash and x_i>50000:\n",
    "            break\n",
    "            \n",
    "    for x_i in range(dataset_2.shape[0]):\n",
    "        hash_key = ''\n",
    "        \n",
    "        for i in range(partitions[0]):\n",
    "            for j in range(partitions[1]):\n",
    "                if i==0 or i==partitions[0]-1 or j==0 or j==partitions[1]-1:\n",
    "                    continue\n",
    "                #print(\"Partition %i,%i\"%(i,j))              \n",
    "                #print(\"Sum for region: x(%i,%i) y(%i,%i)\"%(i*part_size[0],(i+1)*part_size[0],j*part_size[1],(j+1)*part_size[1]))                \n",
    "               \n",
    "                sum_ij = np.sum(\n",
    "                    np.sum(dataset_1[x_i][i*part_size[0]:(i+1)*part_size[0],j*part_size[1]:(j+1)*part_size[1]],axis=1),\n",
    "                    axis=0)\n",
    "                #print(\"\\tSum: %f\"%sum_ij)\n",
    "                hash_key += str(int(sum_ij)-int(sum_ij)%bucket_size)+','\n",
    "                \n",
    "        if hash_key in hashcodes_d2:\n",
    "            hashcodes_d2[hash_key].append(x_i)\n",
    "        else:\n",
    "            hashcodes_d2[hash_key]=[x_i]\n",
    "        \n",
    "        if test_hash and x_i>50000:\n",
    "            break\n",
    "    \n",
    "    san_dataset_2 = np.empty(dataset_2.shape)\n",
    "    san_2_y = np.empty(dataset_2_y.shape)\n",
    "    didx_2 = 0\n",
    "    #perform match between hashcodes dictionaries\n",
    "    for k2,v2 in hashcodes_d2.items():\n",
    "        if k2 in hashcodes_d1:            \n",
    "            for v2 in hashcodes_d2[k2]:\n",
    "                dist_vec=[]\n",
    "                for v1 in hashcodes_d1[k2]:\n",
    "                    #measure distance\n",
    "                    dist_vec.append(np.asscalar(dist_img_2d(dataset_1[v1],dataset_2[v2])))\n",
    "                #if distance too high, add to the sanitized dataset\n",
    "                if np.min(dist_vec)>threshold:\n",
    "                    san_dataset_2[didx_2]=dataset_2[v2]\n",
    "                    san_2_y[didx_2]=dataset_2_y[v2]\n",
    "                    didx_2 += 1\n",
    "                        \n",
    "    san_dataset_2 = np.delete(san_dataset_2,np.r_[didx_2: dataset_2.shape[0]],axis=0)\n",
    "    san_2_y = np.delete(san_2_y,np.r_[didx_2: dataset_2_y.shape[0]],axis=0)\n",
    "    print(san_dataset_2.shape)\n",
    "    return san_dataset_2,san_2_y\n",
    "       "
   ]
  },
  {
   "cell_type": "markdown",
   "metadata": {},
   "source": [
    "Required imports (optional)"
   ]
  },
  {
   "cell_type": "code",
   "execution_count": 1,
   "metadata": {
    "collapsed": true
   },
   "outputs": [],
   "source": [
    "import pickle\n",
    "import numpy as np\n",
    "import matplotlib.pyplot as plt\n",
    "%matplotlib inline\n",
    "import os"
   ]
  },
  {
   "cell_type": "code",
   "execution_count": 6,
   "metadata": {
    "collapsed": false
   },
   "outputs": [
    {
     "ename": "ValueError",
     "evalue": "unsupported pickle protocol: 4",
     "output_type": "error",
     "traceback": [
      "\u001b[0;31m---------------------------------------------------------------------------\u001b[0m",
      "\u001b[0;31mValueError\u001b[0m                                Traceback (most recent call last)",
      "\u001b[0;32m<ipython-input-6-d06d8974f61f>\u001b[0m in \u001b[0;36m<module>\u001b[0;34m()\u001b[0m\n\u001b[1;32m      1\u001b[0m \u001b[1;33m\u001b[0m\u001b[0m\n\u001b[0;32m----> 2\u001b[0;31m \u001b[0mdata\u001b[0m \u001b[1;33m=\u001b[0m \u001b[0mpickle\u001b[0m\u001b[1;33m.\u001b[0m\u001b[0mload\u001b[0m\u001b[1;33m(\u001b[0m\u001b[0mopen\u001b[0m\u001b[1;33m(\u001b[0m \u001b[1;34m'./notMNIST.pickle'\u001b[0m\u001b[1;33m,\u001b[0m \u001b[1;34m\"rb\"\u001b[0m \u001b[1;33m)\u001b[0m\u001b[1;33m)\u001b[0m\u001b[1;33m\u001b[0m\u001b[0m\n\u001b[0m\u001b[1;32m      3\u001b[0m \u001b[0mdata_inputs\u001b[0m\u001b[1;33m=\u001b[0m\u001b[1;33m[\u001b[0m\u001b[0mdata\u001b[0m\u001b[1;33m[\u001b[0m\u001b[1;34m'train_dataset'\u001b[0m\u001b[1;33m]\u001b[0m\u001b[1;33m,\u001b[0m\u001b[0mdata\u001b[0m\u001b[1;33m[\u001b[0m\u001b[1;34m'valid_dataset'\u001b[0m\u001b[1;33m]\u001b[0m\u001b[1;33m,\u001b[0m\u001b[0mdata\u001b[0m\u001b[1;33m[\u001b[0m\u001b[1;34m'test_dataset'\u001b[0m\u001b[1;33m]\u001b[0m\u001b[1;33m]\u001b[0m\u001b[1;33m\u001b[0m\u001b[0m\n\u001b[1;32m      4\u001b[0m \u001b[0mdata_labels\u001b[0m\u001b[1;33m=\u001b[0m\u001b[1;33m[\u001b[0m\u001b[0mdata\u001b[0m\u001b[1;33m[\u001b[0m\u001b[1;34m'train_labels'\u001b[0m\u001b[1;33m]\u001b[0m\u001b[1;33m,\u001b[0m\u001b[0mdata\u001b[0m\u001b[1;33m[\u001b[0m\u001b[1;34m'valid_labels'\u001b[0m\u001b[1;33m]\u001b[0m\u001b[1;33m,\u001b[0m\u001b[0mdata\u001b[0m\u001b[1;33m[\u001b[0m\u001b[1;34m'test_labels'\u001b[0m\u001b[1;33m]\u001b[0m\u001b[1;33m]\u001b[0m\u001b[1;33m\u001b[0m\u001b[0m\n\u001b[1;32m      5\u001b[0m \u001b[0msan_filenames\u001b[0m\u001b[1;33m=\u001b[0m\u001b[1;33m[\u001b[0m\u001b[1;34m'train_sanitized.pickle'\u001b[0m\u001b[1;33m,\u001b[0m\u001b[1;34m'valid_sanitized.pickle'\u001b[0m\u001b[1;33m,\u001b[0m\u001b[1;34m'test_sanitized.pickle'\u001b[0m\u001b[1;33m]\u001b[0m\u001b[1;33m\u001b[0m\u001b[0m\n",
      "\u001b[0;31mValueError\u001b[0m: unsupported pickle protocol: 4"
     ]
    }
   ],
   "source": [
    "\n",
    "data = pickle.load(open( './notMNIST.pickle', \"rb\" ))\n",
    "data_inputs=[data['train_dataset'],data['valid_dataset'],data['test_dataset']]\n",
    "data_labels=[data['train_labels'],data['valid_labels'],data['test_labels']]\n",
    "san_filenames=['train_sanitized.pickle','valid_sanitized.pickle','test_sanitized.pickle']\n",
    "print(\"Data loaded\")\n",
    "threshold = 8.0\n",
    "\n",
    "if not os.path.exists(san_filenames[0]):\n",
    "    print(\"Creating the sanitized training set\")\n",
    "    san_train_x,san_train_y = delete_dups_eff(data_inputs[0],data_labels[0],threshold)\n",
    "    san_tr_data = {'train_dataset':san_train_x,'train_labels':san_train_y}\n",
    "    \n",
    "    f = open(san_filenames[0], 'wb')    \n",
    "    pickle.dump(san_tr_data, f,, pickle.HIGHEST_PROTOCOL)\n",
    "else:\n",
    "    print(\"Sanitized train file exists... Skipping\")\n",
    "\n",
    "if not os.path.exists(san_filenames[1]):\n",
    "    print(\"Creating the sanitized valid set...\")\n",
    "    san_valid_x,san_valid_y = delete_inter_dups_eff(data_inputs[0],data_labels[0],data_inputs[1],data_labels[1],threshold)\n",
    "    san_v_data = {'valid_dataset':san_valid_x,'valid_labels':san_valid_y}\n",
    "    f = open(san_filenames[1], 'wb')    \n",
    "    pickle.dump(san_v_data, f,, pickle.HIGHEST_PROTOCOL)\n",
    "\n",
    "else:\n",
    "    print(\"Sanitized valid file exists ... Skipping\")\n",
    "\n",
    "if not os.path.exists(san_filenames[2]):\n",
    "    print(\"Creating the sanitized test set...\")\n",
    "    san_test_x,san_test_y = delete_inter_dups_eff(data_inputs[0],data_labels[0],data_inputs[2],data_labels[2],threshold)\n",
    "    san_test_data = {'test_dataset':san_test_x,'test_labels':san_test_y}\n",
    "    \n",
    "    f = open(san_filenames[2], 'wb')    \n",
    "    pickle.dump(san_test_data, f, , pickle.HIGHEST_PROTOCOL)\n",
    "    \n",
    "\n",
    "else:\n",
    "    print(\"Sanitized test file exists ... Skipping\")\n",
    "\n",
    "    \n",
    "'''fig,(ax1,ax2,ax3) = plt.subplots(1,3)\n",
    "for k,v in hashcodes.items():\n",
    "    if np.random.random()<0.9:\n",
    "        continue\n",
    "    if len(v)>2:\n",
    "        ax1.imshow(data_inputs[0][v[0]])\n",
    "        ax2.imshow(data_inputs[0][v[1]])\n",
    "        ax3.imshow(data_inputs[0][v[2]])\n",
    "        break'''"
   ]
  },
  {
   "cell_type": "markdown",
   "metadata": {
    "colab_type": "text",
    "id": "L8oww1s4JMQx"
   },
   "source": [
    "---\n",
    "Problem 6\n",
    "---------\n",
    "\n",
    "Let's get an idea of what an off-the-shelf classifier can give you on this data. It's always good to check that there is something to learn, and that it's a problem that is not so trivial that a canned solution solves it.\n",
    "\n",
    "Train a simple model on this data using 50, 100, 1000 and 5000 training samples. Hint: you can use the LogisticRegression model from sklearn.linear_model.\n",
    "\n",
    "Optional question: train an off-the-shelf model on all the data!\n",
    "\n",
    "---"
   ]
  },
  {
   "cell_type": "code",
   "execution_count": 5,
   "metadata": {
    "collapsed": false
   },
   "outputs": [
    {
     "name": "stdout",
     "output_type": "stream",
     "text": [
      "Loaded RAW data ...\n",
      "\tSize Train: (150000, 28, 28) (150000,)\n",
      "\tSize Valid: (10000, 28, 28) (10000,)\n",
      "\tSize Test: (10000, 28, 28) (10000,)\n",
      "Loaded Sanitized data ...\n",
      "\tBefore flattening...\n",
      "\tSize Train: (61489, 28, 28) (61489,)\n",
      "\tSize Valid: (9480, 28, 28) (9480,)\n",
      "\tSize Test: (9433, 28, 28) (9433,)\n",
      "\tAfter flattening...\n",
      "\tSize Train: (61489, 784) (61489,)\n",
      "\tSize Valid: (9480, 784) (9480,)\n",
      "\tSize Test: (9433, 784) (9433,)\n",
      "Assert complete. X,Y samples matched in each dataset ...\n",
      "Creating a Logistic classifer...\n",
      "Training the logistic classifier (Sanitized)...\n",
      "Accuracy on the valid set (Sanitized):0.80\n",
      "Accuracy on the test set (Sanitized):0.88\n",
      "Creating a Logistic classifer...\n",
      "Training the logistic classifier (Raw)...\n",
      "Accuracy on the valid set (Raw):0.82\n",
      "Accuracy on the test set (Raw):0.89\n"
     ]
    }
   ],
   "source": [
    "from sklearn import linear_model\n",
    "\n",
    "\n",
    "data = pickle.load(open( './notMNIST.pickle', \"rb\" ))\n",
    "train_x,valid_x,test_x=data['train_dataset'],data['valid_dataset'],data['test_dataset']\n",
    "train_y,valid_y,test_y=data['train_labels'],data['valid_labels'],data['test_labels']\n",
    "\n",
    "trainx_flat = np.reshape(train_x,(train_x.shape[0],train_x.shape[1]*train_x.shape[2]))\n",
    "validx_flat = np.reshape(valid_x,(valid_x.shape[0],valid_x.shape[1]*valid_x.shape[2]))\n",
    "testx_flat = np.reshape(test_x,(test_x.shape[0],test_x.shape[1]*test_x.shape[2]))\n",
    "\n",
    "print(\"Loaded RAW data ...\")\n",
    "print(\"\\tSize Train:\",train_x.shape,train_y.shape)\n",
    "print(\"\\tSize Valid:\",valid_x.shape,valid_y.shape)\n",
    "print(\"\\tSize Test:\",test_x.shape,test_y.shape)\n",
    "\n",
    "\n",
    "trainsan_data = pickle.load(open( './train_sanitized.pickle', \"rb\" ))\n",
    "validsan_data = pickle.load(open( './valid_sanitized.pickle', \"rb\" ))\n",
    "testsan_data = pickle.load(open( './test_sanitized.pickle', \"rb\" ))\n",
    "\n",
    "trainsan_x,trainsan_y = trainsan_data['train_dataset'],trainsan_data['train_labels']\n",
    "validsan_x,validsan_y = validsan_data['valid_dataset'],validsan_data['valid_labels']\n",
    "testsan_x,testsan_y = testsan_data['test_dataset'],testsan_data['test_labels']\n",
    "\n",
    "trainsanx_flat = np.reshape(trainsan_x,(trainsan_x.shape[0],trainsan_x.shape[1]*trainsan_x.shape[2]))\n",
    "validsanx_flat = np.reshape(validsan_x,(validsan_x.shape[0],validsan_x.shape[1]*validsan_x.shape[2]))\n",
    "testsanx_flat = np.reshape(testsan_x,(testsan_x.shape[0],testsan_x.shape[1]*testsan_x.shape[2]))\n",
    "\n",
    "print(\"Loaded Sanitized data ...\")\n",
    "print('\\tBefore flattening...')\n",
    "print(\"\\tSize Train:\",trainsan_x.shape,trainsan_y.shape)\n",
    "print(\"\\tSize Valid:\",validsan_x.shape,validsan_y.shape)\n",
    "print(\"\\tSize Test:\",testsan_x.shape,testsan_y.shape)\n",
    "print('\\tAfter flattening...')\n",
    "print(\"\\tSize Train:\",trainsanx_flat.shape,trainsan_y.shape)\n",
    "print(\"\\tSize Valid:\",validsanx_flat.shape,validsan_y.shape)\n",
    "print(\"\\tSize Test:\",testsanx_flat.shape,testsan_y.shape)\n",
    "\n",
    "\n",
    "assert trainsan_x.shape[0]==trainsan_y.shape[0]\n",
    "assert validsan_x.shape[0]==validsan_y.shape[0]\n",
    "assert testsan_x.shape[0]==testsan_y.shape[0]\n",
    "print(\"Assert complete. X,Y samples matched in each dataset ...\")\n",
    "\n",
    "dataset_sizes = [50]\n",
    "for s in dataset_sizes:\n",
    "    print(\"Creating a Logistic classifer...\")\n",
    "    logistic = linear_model.LogisticRegression()\n",
    "\n",
    "    print(\"Training the logistic classifier (%i samples) (Sanitized)...\"%s)\n",
    "    logistic = logistic.fit(trainsanx_flat[:s], trainsan_y[:s])\n",
    "\n",
    "    print(\"Accuracy on the valid set (Sanitized):%.2f\"%logistic.score(validsanx_flat, validsan_y)*100)\n",
    "    print(\"Accuracy on the test set (Sanitized):%.2f\"%logistic.score(testsanx_flat, testsan_y)*100)\n",
    "    \n",
    "for s in dataset_sizes:\n",
    "    print(\"Creating a Logistic classifer...\")\n",
    "    logistic = linear_model.LogisticRegression()\n",
    "\n",
    "    print(\"Training the logistic classifier (%i samples) (Raw)...\"%s)\n",
    "    logistic = logistic.fit(trainx_flat[:s], train_y[:s])\n",
    "    print(\"Accuracy on the valid set (Raw):%.2f\"%logistic.score(validx_flat, valid_y)*100)\n",
    "    print(\"Accuracy on the test set (Raw):%.2f\"%logistic.score(testx_flat, test_y)*100)"
   ]
  },
  {
   "cell_type": "markdown",
   "metadata": {},
   "source": [
    "\n",
    "Loaded RAW data ...\n",
    "\tSize Train: (150000, 28, 28) (150000,)\n",
    "\tSize Valid: (10000, 28, 28) (10000,)\n",
    "\tSize Test: (10000, 28, 28) (10000,)\n",
    "Loaded Sanitized data ...\n",
    "\tBefore flattening...\n",
    "\tSize Train: (61489, 28, 28) (61489,)\n",
    "\tSize Valid: (9480, 28, 28) (9480,)\n",
    "\tSize Test: (9433, 28, 28) (9433,)\n",
    "\tAfter flattening...\n",
    "\tSize Train: (61489, 784) (61489,)\n",
    "\tSize Valid: (9480, 784) (9480,)\n",
    "\tSize Test: (9433, 784) (9433,)\n",
    "Assert complete. X,Y samples matched in each dataset ...\n",
    "Creating a Logistic classifer...\n",
    "Training the logistic classifier (Sanitized)...\n",
    "Accuracy on the valid set (Sanitized):0.80\n",
    "Accuracy on the test set (Sanitized):0.88\n",
    "Creating a Logistic classifer...\n",
    "Training the logistic classifier (Raw)...\n",
    "Accuracy on the valid set (Raw):0.82\n",
    "Accuracy on the test set (Raw):0.89"
   ]
  }
 ],
 "metadata": {
  "colab": {
   "default_view": {},
   "name": "1_notmnist.ipynb",
   "provenance": [],
   "version": "0.3.2",
   "views": {}
  },
  "kernelspec": {
   "display_name": "Python 3",
   "language": "python",
   "name": "python3"
  },
  "language_info": {
   "codemirror_mode": {
    "name": "ipython",
    "version": 3
   },
   "file_extension": ".py",
   "mimetype": "text/x-python",
   "name": "python",
   "nbconvert_exporter": "python",
   "pygments_lexer": "ipython3",
   "version": "3.4.5"
  }
 },
 "nbformat": 4,
 "nbformat_minor": 0
}
